{
 "cells": [
  {
   "cell_type": "code",
   "execution_count": 13,
   "id": "359edaa9",
   "metadata": {},
   "outputs": [],
   "source": [
    "import os\n",
    "import vertexai\n",
    "from typing import List, Dict, Any, Optional\n",
    "from pathlib import Path\n",
    "from dotenv import load_dotenv\n",
    "\n",
    "env_path = Path.cwd().parent / '.env'\n",
    "load_dotenv(env_path)\n",
    "\n",
    "GCP_PROJECT = os.getenv(\"GCP_PROJECT\")\n",
    "GCP_REGION = os.getenv(\"GCP_REGION\")\n",
    "GOOGLE_MAP_KEY = os.getenv(\"GOOGLE_MAP_KEY\")\n",
    "\n",
    "vertexai.init(project=GCP_PROJECT, location=GCP_REGION)"
   ]
  },
  {
   "cell_type": "code",
   "execution_count": 14,
   "id": "b6a46b72",
   "metadata": {},
   "outputs": [],
   "source": [
    "from agent_tools import get_lat_lon_from_address, get_weather_forecast\n",
    "\n",
    "def get_weather(address: str) -> Optional[List[Dict[str, Any]]]:\n",
    "    \"\"\"Takes an address and returns a weather forcast from National Weather Service.\n",
    "\n",
    "    Args:\n",
    "        address: The street address or place name to geocode (e.g., \"1600 Amphitheatre Parkway, Mountain View, CA\").\n",
    "\n",
    "    Returns:\n",
    "        A list of dictionaries, where each dictionary represents a forecast\n",
    "        period (e.g., 'Tonight', 'Thursday'). Returns None if an error occurs.\n",
    "    \"\"\"\n",
    "    try:\n",
    "        lat, lon = get_lat_lon_from_address(address=address, api_key=GOOGLE_MAP_KEY)\n",
    "        forecast = get_weather_forecast(lat, lon)\n",
    "        return forecast\n",
    "    except Exception as e:\n",
    "        print(f\"Something broke. Good luck fixing:\\n{e}\")\n",
    "        return None\n",
    "    "
   ]
  },
  {
   "cell_type": "code",
   "execution_count": 17,
   "id": "5d3ab6fa",
   "metadata": {},
   "outputs": [
    {
     "name": "stderr",
     "output_type": "stream",
     "text": [
      "Warning: there are non-text parts in the response: ['function_call', 'function_call', 'function_call'], returning concatenated text result from text parts. Check the full candidates.content.parts accessor to get the full model response.\n"
     ]
    },
    {
     "data": {
      "text/markdown": [
       "Here's a weather forecast for the next three days for New York, Seattle, and Chicago.\n",
       "\n",
       "| City    | Day     | Forecast                                                                                                                                                                           | Temperature |\n",
       "| :------ | :------ | :--------------------------------------------------------------------------------------------------------------------------------------------------------------------------------- | :---------- |\n",
       "| New York | Today   | Partly sunny, with a high near 85. A chance of showers and thunderstorms between 2pm and 5pm, then a slight chance of showers and thunderstorms.                                  | 85°F       |\n",
       "|         | Tonight | Mostly cloudy. Low around 76, with temperatures rising to around 78 overnight. A chance of showers and thunderstorms before 2am, then showers and thunderstorms likely.            | 76°F       |\n",
       "|         | Thursday| Mostly cloudy. High near 79, with temperatures falling to around 77 in the afternoon. Showers and thunderstorms likely.                                                           | 79°F       |\n",
       "| Seattle | Today   | Mostly cloudy. High near 71, with temperatures falling to around 69 in the afternoon. A chance of rain.                                                                            | 71°F       |\n",
       "|         | Tonight | Cloudy, with a low around 57. A chance of rain before 11pm.                                                                                                                         | 57°F       |\n",
       "|         | Thursday| Partly sunny, with a high near 74.                                                                                                                                                  | 74°F       |\n",
       "| Chicago | Today   | Mostly sunny. High near 78, with temperatures falling to around 74 in the afternoon. Isolated showers and thunderstorms between 1pm and 4pm.                                       | 78°F       |\n",
       "|         | Tonight | Partly cloudy, with a low around 69.                                                                                                                                                | 69°F       |\n",
       "|         | Thursday| Mostly sunny, with a high near 78.                                                                                                                                                  | 78°F       |\n"
      ],
      "text/plain": [
       "<IPython.core.display.Markdown object>"
      ]
     },
     "metadata": {},
     "output_type": "display_data"
    }
   ],
   "source": [
    "from google.adk.agents import Agent\n",
    "from vertexai.preview import reasoning_engines\n",
    "from IPython.display import Markdown, display\n",
    "\n",
    "weather_agent = Agent(\n",
    "    name=\"weather_agent_v1\",\n",
    "    model=\"gemini-2.0-flash\", # Can be a string for Gemini or a LiteLlm object\n",
    "    description=\"Provides weather information for specific cities.\",\n",
    "    instruction=\"You are a helpful weather assistant. \"\n",
    "                \"When the user asks for the weather in a specific city, \"\n",
    "                \"use the 'get_weather' tool to find the information. \"\n",
    "                \"If the tool returns an error, inform the user politely. \"\n",
    "                \"If the tool is successful, present the weather report clearly.\",\n",
    "    tools=[get_weather], \n",
    ")\n",
    "\n",
    "\n",
    "app = reasoning_engines.AdkApp(\n",
    "    agent=weather_agent,\n",
    "    enable_tracing=False,\n",
    ")\n",
    "\n",
    "user_id = \"test-user-id\"\n",
    "session = app.create_session(user_id=user_id)\n",
    "\n",
    "for event in app.stream_query(\n",
    "    user_id=user_id,\n",
    "    session_id = session.id,\n",
    "    message=\"What's the weather in New York, Seattle, and Chicago for the next three days? Provide response as markdown table.\",\n",
    "):\n",
    "  lastevent = event\n",
    "\n",
    "display(Markdown(lastevent[\"content\"][\"parts\"][0][\"text\"]))\n"
   ]
  },
  {
   "cell_type": "code",
   "execution_count": null,
   "id": "126f4357",
   "metadata": {},
   "outputs": [],
   "source": []
  }
 ],
 "metadata": {
  "kernelspec": {
   "display_name": "venv",
   "language": "python",
   "name": "python3"
  },
  "language_info": {
   "codemirror_mode": {
    "name": "ipython",
    "version": 3
   },
   "file_extension": ".py",
   "mimetype": "text/x-python",
   "name": "python",
   "nbconvert_exporter": "python",
   "pygments_lexer": "ipython3",
   "version": "3.12.1"
  }
 },
 "nbformat": 4,
 "nbformat_minor": 5
}
