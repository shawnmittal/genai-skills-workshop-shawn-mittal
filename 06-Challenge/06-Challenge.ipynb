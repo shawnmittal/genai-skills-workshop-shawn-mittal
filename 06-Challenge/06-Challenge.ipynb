{
 "cells": [
  {
   "cell_type": "markdown",
   "id": "cdd46d77",
   "metadata": {},
   "source": [
    "# Challenge Six: FEMA ReadyNow! Agent"
   ]
  },
  {
   "cell_type": "code",
   "execution_count": 1,
   "id": "d515a8c5",
   "metadata": {},
   "outputs": [],
   "source": [
    "import os\n",
    "import logging\n",
    "import vertexai\n",
    "from pathlib import Path\n",
    "from dotenv import load_dotenv\n",
    "from utils.agent_callbacks import *\n",
    "from utils.agent_tools import get_weather\n",
    "\n",
    "env_path = Path.cwd().parent / '.env'\n",
    "load_dotenv(env_path)\n",
    "\n",
    "logger = logging.getLogger(__name__)\n",
    "logging.basicConfig(filename=\"ReadyNow.log\", level=logging.INFO)\n",
    "\n",
    "GCP_PROJECT = os.getenv(\"GCP_PROJECT\")\n",
    "GCP_REGION = os.getenv(\"GCP_REGION\")\n",
    "GCP_BUCKET = os.getenv(\"GCP_BUCKET\")\n",
    "GOOGLE_MAP_KEY = os.getenv(\"GOOGLE_MAP_KEY\")\n",
    "\n",
    "vertexai.init(project=GCP_PROJECT, location=GCP_REGION, staging_bucket=GCP_BUCKET)"
   ]
  },
  {
   "cell_type": "code",
   "execution_count": 4,
   "id": "97256d5e",
   "metadata": {},
   "outputs": [],
   "source": [
    "from google.adk.agents import LlmAgent, Agent, SequentialAgent\n",
    "from google.adk.tools import google_search\n",
    "from vertexai.preview import reasoning_engines\n",
    "from IPython.display import Markdown, display\n",
    "\n",
    "weather_agent = LlmAgent(\n",
    "    name=\"weather_agent_v2\",\n",
    "    model=\"gemini-2.0-flash\", # Can be a string for Gemini or a LiteLlm object\n",
    "    description=\"Provides weather information for specific cities.\",\n",
    "    instruction=\"You are a helpful weather assistant. \"\n",
    "                \"When the user asks for the weather in a specific city, \"\n",
    "                \"use the 'get_weather' tool to find the information. \"\n",
    "                \"If the tool returns an error, inform the user politely. \"\n",
    "                \"If the tool is successful, present the weather report clearly as a markdown table.\",\n",
    "    tools=[get_weather], \n",
    "    output_key=\"weather_output\",\n",
    "    before_model_callback=chained_before_callback,\n",
    "    after_model_callback=model_response_log_callback\n",
    ")\n",
    "\n",
    "search_agent = LlmAgent(\n",
    "    name=\"search_agent\",\n",
    "    model=\"gemini-2.0-flash\",\n",
    "    instruction=\"Use the Google Search tool to find information about the user question in the state key 'user_query' from the context that you are a FEMA agent trying to determine news and emergency information.\",\n",
    "    tools=[google_search],\n",
    "    output_key=\"search_results\",\n",
    ")\n",
    "\n",
    "critique_agent = LlmAgent(\n",
    "    name=\"critique_agent\",\n",
    "    model=\"gemini-2.0-flash\",\n",
    "    instruction=\"Critique the search results stored in the state key 'search_results'. Your purpose is to create better search results based on the fact that you are trying to determine emergency/disaster news and evacuation plans.\",\n",
    "    output_key=\"critique_results\",\n",
    ")\n",
    "\n",
    "refine_agent = LlmAgent(\n",
    "    name=\"refine_agent\",\n",
    "    model=\"gemini-2.5-flash\",\n",
    "    instruction=\"Refine the search results based on the critique stored in the state key 'critique_results' using the Google Search tool\",\n",
    "    tools=[google_search],\n",
    "    output_key=\"refined_results\",\n",
    ")\n",
    "\n",
    "presentation_agent = LlmAgent(\n",
    "    name=\"presentation_agent\",\n",
    "    model=\"gemini-2.0-flash\",\n",
    "    instruction=\"Take the state keys 'refined_results' and 'weather_output' and format it so that it can be used as the final output to an end user.\",\n",
    ")\n",
    "\n",
    "greeter_agent = Agent(\n",
    "    name=\"greeter_agent\",\n",
    "    model=\"gemini-2.0-flash\",\n",
    "    instruction=\"You are a FEMA emergency response agent. Take the user query, then pass to 'search_agent'.\",\n",
    "    output_key=\"user_query\"\n",
    ")\n",
    "\n",
    "search_sequence = SequentialAgent(\n",
    "    name=\"search_sequence\",\n",
    "    sub_agents=[greeter_agent, weather_agent, search_agent, critique_agent, refine_agent, presentation_agent],\n",
    ")"
   ]
  },
  {
   "cell_type": "code",
   "execution_count": 5,
   "id": "b12e2a29",
   "metadata": {},
   "outputs": [],
   "source": [
    "app = reasoning_engines.AdkApp(\n",
    "    agent=search_sequence,\n",
    "    enable_tracing=False,\n",
    ")\n",
    "\n",
    "user_id = \"test-user-id\"\n",
    "session = app.create_session(user_id=user_id)"
   ]
  },
  {
   "cell_type": "code",
   "execution_count": 7,
   "id": "1830540c",
   "metadata": {},
   "outputs": [
    {
     "name": "stderr",
     "output_type": "stream",
     "text": [
      "/workspaces/genai-skills-workshop-shawn-mittal/venv/lib/python3.12/site-packages/vertexai/generative_models/_generative_models.py:433: UserWarning: This feature is deprecated as of June 24, 2025 and will be removed on June 24, 2026. For details, see https://cloud.google.com/vertex-ai/generative-ai/docs/deprecations/genai-vertexai-sdk.\n",
      "  warning_logs.show_deprecation_warning()\n"
     ]
    },
    {
     "data": {
      "text/markdown": [
       "This is a critical situation. Please stay safe and take immediate action. Here's what you need to know about the flooding in Kerr County, Texas:\n",
       "\n",
       "**IMMEDIATE ACTIONS - Your Safety is the Priority**\n",
       "\n",
       "*   **Move to Higher Ground IMMEDIATELY:** If you are near any creek, stream, or the Guadalupe River, seek higher ground immediately. **Do not attempt to travel through floodwaters** on foot or in a vehicle. The water is dangerous, and roads may be gone.\n",
       "*   **Shelter in Place:** If you cannot evacuate safely, find the highest possible location inside the building you are in.\n",
       "*   **Road Closures:** Many roads are closed due to flooding. Stay off the roads. Avoid the affected areas so rescue workers can do their job.\n",
       "*   **Alerts May Be Delayed:** Do not wait for an official alert if you feel you are in danger. Kerr County does not have a river warning system.\n",
       "\n",
       "**The Situation Right Now (July 9-10, 2025)**\n",
       "\n",
       "*   Kerr County is in a state of disaster.\n",
       "*   The Guadalupe River crested beyond 1987 flood levels.\n",
       "*   Tragically, 96 people have died in Kerr County and 119 people have died in Central Texas due to the flooding.\n",
       "*   Search and rescue efforts are ongoing with more than 2,100 people involved. Focus is heavily on an 8-mile area of the Guadalupe River near Ingram.\n",
       "*   Power is restored to most areas.\n",
       "*   161 people are still missing in Kerr County.\n",
       "\n",
       "**Specific Area Information**\n",
       "\n",
       "*   **Ingram:** Search and rescue is focused on the Guadalupe River.\n",
       "*   **Comfort:** The town benefited from its own warning system, and the community is supporting those who lost homes. Carolyn Road homes were destroyed.\n",
       "*   **Kerrville:** Emergency crews rescued people from rising waters. A Disaster Recovery Center is open at First Baptist Church (625 Washington Street) in Kerrville with financial support available.\n",
       "\n",
       "**Where to Go for Help**\n",
       "\n",
       "*   **Shelter:** First United Methodist Church (321 Thompson Drive, Kerrville, TX).\n",
       "*   **Missing Persons:** If you have information about someone missing, update it at kerrvillemissing.dps.texas.gov or call 830-258-1111.\n",
       "*   **Pets:** Kerrville Pets Alive! can help with pet needs at 830-200-0539 or info@kerrvilleptsalive.org.\n",
       "*   **Donations:** Donate to the American Red Cross to help those affected.\n",
       "\n",
       "**Important Contacts**\n",
       "\n",
       "*   **Kerr County Emergency Management:** 830-315-2430\n",
       "*   **Kerr County Sheriff's Office:** 830-896-1216\n",
       "*   **Sign up for Emergency Alerts:** CodeRED Emergency Notification System via the Kerr County Sheriff's Office or City of Kerrville websites.\n",
       "\n",
       "Please, prioritize your safety and the safety of others. Stay informed and follow instructions from emergency personnel. Stay away from the flooded areas.\n",
       "\n"
      ],
      "text/plain": [
       "<IPython.core.display.Markdown object>"
      ]
     },
     "metadata": {},
     "output_type": "display_data"
    }
   ],
   "source": [
    "for event in app.stream_query(\n",
    "    user_id=user_id,\n",
    "    session_id = session.id,\n",
    "    message=\"I'm in Kerr County, Texas and flooding is happening please help me.\",\n",
    "):\n",
    "  lastevent = event\n",
    "\n",
    "display(Markdown(lastevent[\"content\"][\"parts\"][0][\"text\"]))"
   ]
  }
 ],
 "metadata": {
  "kernelspec": {
   "display_name": "venv",
   "language": "python",
   "name": "python3"
  },
  "language_info": {
   "codemirror_mode": {
    "name": "ipython",
    "version": 3
   },
   "file_extension": ".py",
   "mimetype": "text/x-python",
   "name": "python",
   "nbconvert_exporter": "python",
   "pygments_lexer": "ipython3",
   "version": "3.12.1"
  }
 },
 "nbformat": 4,
 "nbformat_minor": 5
}
