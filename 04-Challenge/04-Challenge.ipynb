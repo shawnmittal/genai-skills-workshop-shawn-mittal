{
 "cells": [
  {
   "cell_type": "markdown",
   "id": "834dd632",
   "metadata": {},
   "source": [
    "# Challenge Four"
   ]
  },
  {
   "cell_type": "code",
   "execution_count": 1,
   "id": "359edaa9",
   "metadata": {},
   "outputs": [],
   "source": [
    "import os\n",
    "import logging\n",
    "import vertexai\n",
    "from typing import List, Dict, Any, Optional\n",
    "from pathlib import Path\n",
    "from dotenv import load_dotenv\n",
    "\n",
    "env_path = Path.cwd().parent / '.env'\n",
    "load_dotenv(env_path)\n",
    "\n",
    "logger = logging.getLogger(__name__)\n",
    "logging.basicConfig(filename=\"app.log\", level=logging.INFO)\n",
    "\n",
    "GCP_PROJECT = os.getenv(\"GCP_PROJECT\")\n",
    "GCP_REGION = os.getenv(\"GCP_REGION\")\n",
    "GOOGLE_MAP_KEY = os.getenv(\"GOOGLE_MAP_KEY\")\n",
    "\n",
    "vertexai.init(project=GCP_PROJECT, location=GCP_REGION)"
   ]
  },
  {
   "cell_type": "markdown",
   "id": "5a16d37b",
   "metadata": {},
   "source": [
    "### Agents"
   ]
  },
  {
   "cell_type": "code",
   "execution_count": 2,
   "id": "5d3ab6fa",
   "metadata": {},
   "outputs": [],
   "source": [
    "from google.adk.agents import Agent, LlmAgent, SequentialAgent\n",
    "from google.adk.tools import google_search\n",
    "from vertexai.preview import reasoning_engines\n",
    "from IPython.display import Markdown, display\n",
    "\n",
    "search_agent = LlmAgent(\n",
    "    name=\"search_agent\",\n",
    "    model=\"gemini-2.0-flash\",\n",
    "    instruction=\"Use the Google Search tool to find information about a topic.\",\n",
    "    tools=[google_search],\n",
    "    output_key=\"search_results\",\n",
    ")\n",
    "\n",
    "critique_agent = LlmAgent(\n",
    "    name=\"critique_agent\",\n",
    "    model=\"gemini-2.0-flash\",\n",
    "    instruction=\"Critique the search results stored in the state key 'search_results'.\",\n",
    "    output_key=\"critique_results\",\n",
    ")\n",
    "\n",
    "refine_agent = LlmAgent(\n",
    "    name=\"refine_agent\",\n",
    "    model=\"gemini-2.5-flash\",\n",
    "    instruction=\"Refine the search results based on the critique stored in the state key 'critique_results'. This will be used as final output to the end user.\",\n",
    "    output_key=\"refined_results\",\n",
    ")\n",
    "\n",
    "greeter_agent = Agent(\n",
    "    name=\"greeter_agent\",\n",
    "    model=\"gemini-2.0-flash\",\n",
    "    instruction=\"Greet the user and ask for a topic to search, then pass to 'search_agent'.\",\n",
    ")\n",
    "\n",
    "search_sequence = SequentialAgent(\n",
    "    name=\"search_sequence\",\n",
    "    sub_agents=[greeter_agent, search_agent, critique_agent, refine_agent],\n",
    ")\n"
   ]
  },
  {
   "cell_type": "code",
   "execution_count": 3,
   "id": "c4f57ef9",
   "metadata": {},
   "outputs": [
    {
     "data": {
      "text/markdown": [
       "Being human is a profoundly complex and multifaceted concept, encompassing biological, philosophical, social, and emotional dimensions. Here's an expanded overview, incorporating various perspectives to provide a more nuanced understanding:\n",
       "\n",
       "While specific citations from the original search were not provided, a comprehensive answer would typically draw from sources such as biological anthropology texts, philosophical works (e.g., Aristotle, Descartes, existentialist philosophers), sociological studies, psychology research, and cultural anthropology.\n",
       "\n",
       "### 1. Biological Perspective: Our Animal Nature\n",
       "\n",
       "*   **Classification:** Humans are scientifically classified as *Homo sapiens*, a unique species of culture-bearing primates within the genus *Homo*.\n",
       "*   **Distinctive Traits:** We are distinguished by a highly developed brain, enabling abstract reasoning and articulate speech. Our unique upright posture frees our hands for tool use and complex manipulation of our environment.\n",
       "*   **Fundamental Processes:** From a purely biological standpoint, human life involves self-sustaining processes like homeostasis, organization, metabolism, growth, adaptation, response to stimuli, and reproduction.\n",
       "\n",
       "### 2. Philosophical Perspective: The Quest for Meaning and Self\n",
       "\n",
       "*   **Rationality and Consciousness:** A defining characteristic is the capacity for abstract rational thought, which underpins language, culture, and complex ideologies. Philosophers like Aristotle emphasized humans as \"rational animals\" (*animal rationale*). René Descartes famously posited \"I think, therefore I am,\" highlighting consciousness and self-awareness as central to human existence.\n",
       "*   **Existentialism and Meaning:** Beyond inherent rationality, being human involves grappling with existential questions of purpose, meaning, and our place in the universe. Philosophers like Jean-Paul Sartre and Albert Camus explored the freedom and burden of creating our own meaning in an often-absurd world.\n",
       "*   **Humanism:** Many philosophical traditions, particularly humanism, place human values, dignity, and capacity for self-realization at the center, emphasizing our potential for good.\n",
       "*   **Moral and Ethical Capacity:** Uniquely, humans possess the ability to differentiate between right and wrong, to establish ethical frameworks, and to act based on moral reasoning, often debating the source and nature of these moral principles.\n",
       "\n",
       "### 3. Social Perspective: Connection, Culture, and Community\n",
       "\n",
       "*   **Inherent Sociality:** Humans are fundamentally social beings, driven to form complex communities, from families and tribes to nations and global networks. As the expression \"no man is an island\" suggests, our identities and lives are deeply intertwined with others.\n",
       "*   **Culture-Bearing and Shaping:** We are both products and creators of culture. Culture encompasses shared beliefs, values, customs, behaviors, and artifacts that shape our understanding of the world and our interactions within it. This capacity for cumulative cultural learning is unparalleled.\n",
       "*   **Complex Social Structures:** Human societies are characterized by intricate divisions of labor, legal systems, and institutions (e.g., educational, political, economic) that organize and regulate collective life.\n",
       "*   **Impact on the World:** Our collective actions have a profound and often transformative impact on the natural environment and global systems.\n",
       "\n",
       "### 4. Emotional Perspective: The Spectrum of Human Experience\n",
       "\n",
       "*   **Rich Emotional Landscape:** To be human is to experience a vast spectrum of emotions – joy, sorrow, love, grief, anger, hope, fear, regret, and myriad subtle variations. These emotions are not merely reactions but are integral to our cognitive processes, decision-making, and connection with others.\n",
       "*   **Empathy and Compassion:** Empathy, the ability to understand and share the feelings of others, is a cornerstone of human social bonding and is crucial for fostering compassion, altruism, and supportive communities.\n",
       "*   **Emotional Awareness:** The capacity for self-reflection extends to our emotions, allowing us to understand our inner states and develop emotional intelligence, which contributes to personal growth and fulfillment.\n",
       "\n",
       "### 5. Key Human Qualities & Paradoxes:\n",
       "\n",
       "*   **Consciousness:** The remarkable capacity to be aware of oneself, one's thoughts, feelings, and surroundings.\n",
       "*   **Creativity:** The unique power to imagine, innovate, and express novel ideas, from art and music to scientific discoveries and technological advancements.\n",
       "*   **Resilience:** The innate ability to adapt, recover, and even grow in the face of adversity, trauma, and challenges.\n",
       "*   **The \"Dark Side\":** While humans possess immense capacity for good, love, and cooperation, we also demonstrate a capacity for cruelty, selfishness, irrationality, and destructive behavior. A complete understanding of human nature acknowledges this duality – our potential for both great good and great harm.\n",
       "*   **Search for Purpose:** An enduring drive to find significance, meaning, and contribution in one's life.\n",
       "\n",
       "### 6. The Evolving Definition:\n",
       "\n",
       "*   **Cultural Relativity:** What it means to be human can vary across different cultures and historical periods, influenced by prevailing beliefs, values, and social structures. There isn't a single, universal definition that applies identically everywhere.\n",
       "*   **Future Trajectories:** The concept of \"human\" itself is continually evolving, particularly with advancements in areas like genetic engineering, artificial intelligence, and transhumanism, which raise new questions about our biological and cognitive limits, and the potential future forms of intelligence and existence.\n",
       "\n",
       "In essence, being human is a continuous, dynamic journey shaped by our unique biological heritage, our profound capacity for thought and feeling, our inescapable social bonds, and our ongoing pursuit of meaning and purpose in a complex world. It is a paradox of rationality and irrationality, creation and destruction, profound empathy and profound cruelty."
      ],
      "text/plain": [
       "<IPython.core.display.Markdown object>"
      ]
     },
     "metadata": {},
     "output_type": "display_data"
    }
   ],
   "source": [
    "app = reasoning_engines.AdkApp(\n",
    "    agent=search_sequence,\n",
    "    enable_tracing=False,\n",
    ")\n",
    "\n",
    "user_id = \"test-user-id\"\n",
    "session = app.create_session(user_id=user_id)\n",
    "\n",
    "for event in app.stream_query(\n",
    "    user_id=user_id,\n",
    "    session_id = session.id,\n",
    "    message=\"What does it mean to be human?\",\n",
    "):\n",
    "  lastevent = event\n",
    "\n",
    "display(Markdown(lastevent[\"content\"][\"parts\"][0][\"text\"]))"
   ]
  }
 ],
 "metadata": {
  "kernelspec": {
   "display_name": "venv",
   "language": "python",
   "name": "python3"
  },
  "language_info": {
   "codemirror_mode": {
    "name": "ipython",
    "version": 3
   },
   "file_extension": ".py",
   "mimetype": "text/x-python",
   "name": "python",
   "nbconvert_exporter": "python",
   "pygments_lexer": "ipython3",
   "version": "3.12.1"
  }
 },
 "nbformat": 4,
 "nbformat_minor": 5
}
